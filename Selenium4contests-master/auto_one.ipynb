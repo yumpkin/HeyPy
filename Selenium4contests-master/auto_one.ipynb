{
 "cells": [
  {
   "cell_type": "markdown",
   "metadata": {},
   "source": [
    "## Selenium automation for stepik task\n",
    " * Dataset download\n",
    " * store the values on the fly(in the memory)\n",
    " * submit the final answer\n",
    " * easy to modify to use in other tasks"
   ]
  },
  {
   "cell_type": "code",
   "execution_count": null,
   "metadata": {},
   "outputs": [],
   "source": [
    "from io import BytesIO\n",
    "from urllib.request import urlopen\n",
    "from selenium import webdriver\n",
    "from selenium.webdriver.support import ui\n",
    "from selenium.webdriver.support import expected_conditions as EC\n",
    "from selenium.webdriver.common.action_chains import ActionChains\n",
    "from selenium.webdriver.common.keys import Keys\n",
    "from selenium.webdriver.common.by import By"
   ]
  },
  {
   "cell_type": "code",
   "execution_count": null,
   "metadata": {},
   "outputs": [],
   "source": [
    "options = webdriver.ChromeOptions()\n",
    "binary_yandex_driver_file = './initializer/yandexdriver.exe'\n",
    "driver = webdriver.Chrome(binary_yandex_driver_file, options=options)\n",
    "\n",
    "ETSP_step = [str(a) for a in range(1, 10)]\n",
    "step_number = ETSP_step[0]\n",
    "ETSP_link = \"/login?next=lesson%252F110889%252Fstep%252F\"+step_number\n",
    "\n",
    "driver.get(\"https://stepik.org\"+ETSP_link)\n",
    "    \n",
    "my_login = 'some.email@gmail.com'\n",
    "my_password = '*********'\n",
    "\n",
    "login_bar = ui.WebDriverWait(driver, 10).until(EC.element_to_be_clickable((By.LINK_TEXT, \"Log in\")))\n",
    "\n",
    "id_box = ui.WebDriverWait(driver, 10).until(EC.element_to_be_clickable((By.ID, \"id_login_email\")))\n",
    "id_box.send_keys(my_login)\n",
    "\n",
    "pass_box = ui.WebDriverWait(driver, 10).until(EC.element_to_be_clickable((By.ID, \"id_login_password\")))\n",
    "pass_box.send_keys(my_password)\n",
    "\n",
    "driver.find_element_by_xpath(\"//button[text()='Log in']\").click()\n",
    "\n",
    "time.sleep(10)\n",
    "fileLink_ETSP = [a.get_attribute('href') for a in driver.find_elements_by_xpath('//*[@id=\"ember140\"]/span/ul/li[1]/a')]\n",
    "fileLink_ETSP.append([a.get_attribute('href') for a in driver.find_elements_by_xpath('//*[@id=\"ember140\"]/span/ul/li[2]/a')])"
   ]
  },
  {
   "cell_type": "code",
   "execution_count": null,
   "metadata": {},
   "outputs": [],
   "source": [
    "resp = urlopen(fileLink_ETSP[0])\n",
    "txt_data = BytesIO(resp.read())\n",
    "data = [[float(x) for x in line.decode('UTF-8').split(' ')[:]] for line in txt_data.readlines()]\n",
    "\n",
    "n_points = int(data[0][0])\n",
    "points = [x[1:] for x in data][1:]\n",
    "tuple_points = [tuple(a) for a in points]\n",
    "name2point = {i: j for i, j in zip(count(start=1, step=1), tuple_points)}\n",
    "point2name = {y: x for x,y in name2point.items()}"
   ]
  }
 ],
 "metadata": {
  "kernelspec": {
   "display_name": "Python 3",
   "language": "python",
   "name": "python3"
  },
  "language_info": {
   "codemirror_mode": {
    "name": "ipython",
    "version": 3
   },
   "file_extension": ".py",
   "mimetype": "text/x-python",
   "name": "python",
   "nbconvert_exporter": "python",
   "pygments_lexer": "ipython3",
   "version": "3.7.6"
  }
 },
 "nbformat": 4,
 "nbformat_minor": 4
}
